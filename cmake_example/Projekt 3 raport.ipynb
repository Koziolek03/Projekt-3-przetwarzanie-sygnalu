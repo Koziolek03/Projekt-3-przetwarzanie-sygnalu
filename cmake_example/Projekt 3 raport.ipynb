{
 "cells": [
  {
   "cell_type": "markdown",
   "id": "a3242e51-8e80-41cd-abff-7d45bd633012",
   "metadata": {},
   "source": [
    "\n",
    "\n",
    "# TECHNIKI PROGRAMOWANIA - projekt 3\n",
    "### Jakub Kozłowski 197623\n",
    "### Szymon Mielniczak 197956\n",
    " \n",
    " Wykorzystane biblioteki:\n",
    " - matplotplusplus (c++)\n",
    " - AudioFile (c++)\n",
    " - pybind 11\n",
    "\n",
    "Zadanaia do wykonania:\n",
    "- Wizualizacja sygnału z wykorzystaniem biblioteki matplotplusplus (1/1)\n",
    "- Filtracja 1D i 2D (1/2)\n",
    "- Generowanie sygnałów o zadanej częstotliwości (sin, cos, prostokątny, piłokształtny)(4/4)\n",
    "- Rozmycie gaussa (korzystajac z filtracji) (0/1)\n",
    "\n",
    "Zrealizowane zostały 6/8 funkcji \n"
   ]
  },
  {
   "cell_type": "markdown",
   "id": "c67da97a-d548-4320-8841-02c77557e26f",
   "metadata": {},
   "source": [
    "# Wczytanie biblioteki "
   ]
  },
  {
   "cell_type": "code",
   "execution_count": 39,
   "id": "9a7ea343-c731-4fea-a12b-80ce53bebb02",
   "metadata": {},
   "outputs": [],
   "source": [
    "#from audioop import *\n",
    "from build.Debug.cmake_example import *"
   ]
  },
  {
   "cell_type": "markdown",
   "id": "fd76c8e6-0e2e-48fa-855a-2d7a47f40c62",
   "metadata": {},
   "source": [
    "# Wizualizacja wykresów 1D\n",
    "Wcztanie zadanej częstotliwości (Hz) oraz generowanie sygnału \n",
    "## Proszę zwrócić uwage na podziałkę \"x\" która jest w sekundach  "
   ]
  },
  {
   "cell_type": "code",
   "execution_count": 30,
   "id": "9096c886-75be-4397-8974-094d3dad0cd4",
   "metadata": {},
   "outputs": [
    {
     "name": "stdin",
     "output_type": "stream",
     "text": [
      "Podaj czestotliwosc:  2\n"
     ]
    }
   ],
   "source": [
    "freq = int(input(\"Podaj czestotliwosc: \"))\n",
    "sinus(freq)"
   ]
  },
  {
   "cell_type": "markdown",
   "id": "50c37d2d-a5ba-4922-80e9-1ad7795bc03d",
   "metadata": {},
   "source": [
    "![Sin plot](sin_plot.png)\n",
    "\n",
    "wykres sinusa sin_plot.png"
   ]
  },
  {
   "cell_type": "code",
   "execution_count": 32,
   "id": "386240d6-e0b9-4295-be70-bd99dd91a241",
   "metadata": {},
   "outputs": [
    {
     "name": "stdin",
     "output_type": "stream",
     "text": [
      "Podaj czestotliwosc:  5\n"
     ]
    }
   ],
   "source": [
    "freq = int(input(\"Podaj czestotliwosc: \"))\n",
    "cosinus(freq)"
   ]
  },
  {
   "cell_type": "markdown",
   "id": "ddc1cca4-f64c-4f2e-b05e-75281404f899",
   "metadata": {},
   "source": [
    "![Cos plot](cos_plot.png)\n",
    "\n",
    "wykres cosinusa cos_plot.png"
   ]
  },
  {
   "cell_type": "code",
   "execution_count": 35,
   "id": "9c103f43-9b76-4f2f-9167-810447931f7e",
   "metadata": {},
   "outputs": [
    {
     "name": "stdin",
     "output_type": "stream",
     "text": [
      "Podaj czestotliwosc:  3\n"
     ]
    }
   ],
   "source": [
    "freq = int(input(\"Podaj czestotliwosc: \"))\n",
    "pila(freq)"
   ]
  },
  {
   "cell_type": "markdown",
   "id": "6047d4ef-d64a-441e-9998-4558ff007786",
   "metadata": {},
   "source": [
    "![piła plot](pila_plot.png)\n",
    "\n",
    "wykres piłokształtnego pila_plot.png"
   ]
  },
  {
   "cell_type": "code",
   "execution_count": 36,
   "id": "88eaa62b-e320-48cc-9c0e-3d26e0a36f62",
   "metadata": {},
   "outputs": [
    {
     "name": "stdin",
     "output_type": "stream",
     "text": [
      "Podaj czestotliwosc:  10\n"
     ]
    }
   ],
   "source": [
    "freq = int(input(\"Podaj czestotliwosc: \"))\n",
    "prostokatny(freq)"
   ]
  },
  {
   "cell_type": "markdown",
   "id": "e5a407f5-ed66-4982-8baf-69ffcb536d31",
   "metadata": {},
   "source": [
    "![rec plot](rec_plot.png)\n",
    "\n",
    "wykres prostokątny rec_plot.png"
   ]
  },
  {
   "cell_type": "markdown",
   "id": "36073648-4d82-4fa6-afa2-67db1f64d1da",
   "metadata": {},
   "source": [
    "## Wizualizacja sygnału dźwiękowego z wykorzystaniem biblioteki AudioFile oraz Matplotplusplus\n",
    "\n",
    "\n"
   ]
  },
  {
   "cell_type": "code",
   "execution_count": 37,
   "id": "e00ac33b-022c-43fb-a6c2-ca27e2da6506",
   "metadata": {},
   "outputs": [
    {
     "name": "stdout",
     "output_type": "stream",
     "text": [
      "None\n"
     ]
    }
   ],
   "source": [
    "audio_data = readAudioFile(r\"CantinaBand3.wav\")# Wczytanie do pythona pliku dźwiękowego CantinaBand3.wav\n",
    "print(visualizeAudio(audio_data)) #wizualizacja za pomocą Gnuplota"
   ]
  },
  {
   "cell_type": "markdown",
   "id": "f521b470-3343-426f-8f30-750677b62ee6",
   "metadata": {},
   "source": [
    "![CantinaBand3](CantinaBand3_plot.png)\n",
    "\n",
    "wykres CantinaBand3_plot.png"
   ]
  },
  {
   "cell_type": "markdown",
   "id": "72ec5109-6c92-4af5-ba54-6906d0f5e357",
   "metadata": {},
   "source": [
    "## Wizualizacja sygnału dźwiękowego po filtracji 1D (Filtr górnoprzepustowy)"
   ]
  },
  {
   "cell_type": "code",
   "execution_count": 38,
   "id": "f976dde1-ab1b-46ae-956d-2e8dbcb54899",
   "metadata": {},
   "outputs": [
    {
     "name": "stdout",
     "output_type": "stream",
     "text": [
      "None\n"
     ]
    }
   ],
   "source": [
    "audio_filtrated=filtrGornoPrzepustowy(audio_data,100)\n",
    "print(visualizeAudio(audio_filtrated))"
   ]
  },
  {
   "cell_type": "markdown",
   "id": "e6a4d760-75f2-4588-ad24-3da3d04f2123",
   "metadata": {},
   "source": [
    "![CantinaBand3 po filtracji ](CantinaBand3_po_Filtracji_plot.png)\n",
    "\n",
    "wykres CantinaBand3_po_Filtracji_plot.png"
   ]
  },
  {
   "cell_type": "code",
   "execution_count": null,
   "id": "ff166e81-b294-4860-8cef-592e199b2557",
   "metadata": {},
   "outputs": [],
   "source": []
  }
 ],
 "metadata": {
  "kernelspec": {
   "display_name": "Python 3 (ipykernel)",
   "language": "python",
   "name": "python3"
  },
  "language_info": {
   "codemirror_mode": {
    "name": "ipython",
    "version": 3
   },
   "file_extension": ".py",
   "mimetype": "text/x-python",
   "name": "python",
   "nbconvert_exporter": "python",
   "pygments_lexer": "ipython3",
   "version": "3.12.2"
  }
 },
 "nbformat": 4,
 "nbformat_minor": 5
}
